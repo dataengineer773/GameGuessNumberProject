{
 "cells": [
  {
   "cell_type": "code",
   "execution_count": 1,
   "id": "6e4148d7-dd30-4666-a49e-a1be28880b5b",
   "metadata": {},
   "outputs": [],
   "source": [
    "import random"
   ]
  },
  {
   "cell_type": "code",
   "execution_count": 4,
   "id": "a0b58e42-3872-45e1-b231-8899a217d79b",
   "metadata": {},
   "outputs": [
    {
     "name": "stdin",
     "output_type": "stream",
     "text": [
      "UNTIL WHICH NUMBER 1\n",
      "INPUT THE CORRECT NUMBER 2\n",
      "INPUT THE CORRECT NUMBER 3\n"
     ]
    },
    {
     "name": "stdout",
     "output_type": "stream",
     "text": [
      "SMALLER\n"
     ]
    },
    {
     "name": "stdin",
     "output_type": "stream",
     "text": [
      "INPUT THE CORRECT NUMBER 4\n"
     ]
    },
    {
     "name": "stdout",
     "output_type": "stream",
     "text": [
      "SMALLER\n"
     ]
    },
    {
     "name": "stdin",
     "output_type": "stream",
     "text": [
      "INPUT THE CORRECT NUMBER 5\n"
     ]
    },
    {
     "name": "stdout",
     "output_type": "stream",
     "text": [
      "SMALLER\n"
     ]
    },
    {
     "name": "stdin",
     "output_type": "stream",
     "text": [
      "INPUT THE CORRECT NUMBER 6\n"
     ]
    },
    {
     "name": "stdout",
     "output_type": "stream",
     "text": [
      "SMALLER\n"
     ]
    },
    {
     "name": "stdin",
     "output_type": "stream",
     "text": [
      "INPUT THE CORRECT NUMBER 7\n"
     ]
    },
    {
     "name": "stdout",
     "output_type": "stream",
     "text": [
      "SMALLER\n"
     ]
    },
    {
     "name": "stdin",
     "output_type": "stream",
     "text": [
      "INPUT THE CORRECT NUMBER 8\n"
     ]
    },
    {
     "name": "stdout",
     "output_type": "stream",
     "text": [
      "SMALLER\n"
     ]
    },
    {
     "name": "stdin",
     "output_type": "stream",
     "text": [
      "INPUT THE CORRECT NUMBER 11\n"
     ]
    },
    {
     "name": "stdout",
     "output_type": "stream",
     "text": [
      "SMALLER\n"
     ]
    },
    {
     "name": "stdin",
     "output_type": "stream",
     "text": [
      "INPUT THE CORRECT NUMBER 15\n"
     ]
    },
    {
     "name": "stdout",
     "output_type": "stream",
     "text": [
      "SMALLER\n"
     ]
    },
    {
     "name": "stdin",
     "output_type": "stream",
     "text": [
      "INPUT THE CORRECT NUMBER 90\n"
     ]
    },
    {
     "name": "stdout",
     "output_type": "stream",
     "text": [
      "SMALLER\n"
     ]
    },
    {
     "name": "stdin",
     "output_type": "stream",
     "text": [
      "INPUT THE CORRECT NUMBER 1000\n"
     ]
    },
    {
     "name": "stdout",
     "output_type": "stream",
     "text": [
      "SMALLER\n"
     ]
    },
    {
     "name": "stdin",
     "output_type": "stream",
     "text": [
      "INPUT THE CORRECT NUMBER 999\n"
     ]
    },
    {
     "name": "stdout",
     "output_type": "stream",
     "text": [
      "SMALLER\n"
     ]
    },
    {
     "name": "stdin",
     "output_type": "stream",
     "text": [
      "INPUT THE CORRECT NUMBER `0\n"
     ]
    },
    {
     "name": "stdout",
     "output_type": "stream",
     "text": [
      "INPUT NUMBER\n"
     ]
    },
    {
     "name": "stdin",
     "output_type": "stream",
     "text": [
      "INPUT THE CORRECT NUMBER 0\n"
     ]
    },
    {
     "name": "stdout",
     "output_type": "stream",
     "text": [
      "BIGGER\n"
     ]
    },
    {
     "name": "stdin",
     "output_type": "stream",
     "text": [
      "INPUT THE CORRECT NUMBER 1\n"
     ]
    },
    {
     "name": "stdout",
     "output_type": "stream",
     "text": [
      "EQUIVALLENT\n"
     ]
    },
    {
     "name": "stdin",
     "output_type": "stream",
     "text": [
      "IF WANNA CONTINUE 1 OR NOT 2 2\n"
     ]
    }
   ],
   "source": [
    "i = 0\n",
    "while True :\n",
    "    if i != 0:\n",
    "            try:\n",
    "                f = int(input('IF WANNA CONTINUE 1 OR NOT 2'))\n",
    "                if f == 2:\n",
    "                    break\n",
    "                elif f == 1 :\n",
    "                     print('.......')\n",
    "                else:\n",
    "                     print('INPUT THE CORRECT NUMBER')\n",
    "                     continue\n",
    "            except ValueError:\n",
    "                print('INPUT THE CORRECT NUMBER')\n",
    "                continue\n",
    "    i+=1\n",
    "    while True:\n",
    "        try:\n",
    "            x = int(input('UNTIL WHICH NUMBER'))\n",
    "            break\n",
    "        except ValueError:\n",
    "               print('INPUT THE CORRECT NUMBER')\n",
    "               continue\n",
    "    while True:\n",
    "        try:\n",
    "            y = int(input('INPUT THE CORRECT NUMBER'))\n",
    "            break\n",
    "        except ValueError:\n",
    "            print('INPUT THE CORRECT NUMBER')\n",
    "            continue\n",
    "    c = random.randint(x, y)\n",
    "    while True:\n",
    "        try:\n",
    "            v = int(input('INPUT THE CORRECT NUMBER'))\n",
    "        except ValueError:\n",
    "            print('INPUT NUMBER')\n",
    "            continue\n",
    "        if v > c:\n",
    "            print('SMALLER')\n",
    "        elif v < c:\n",
    "            print('BIGGER')\n",
    "        else:\n",
    "            print('EQUIVALLENT')\n",
    "            break"
   ]
  },
  {
   "cell_type": "code",
   "execution_count": null,
   "id": "69849750-b03a-48e9-9f06-ad0a904d21cc",
   "metadata": {},
   "outputs": [],
   "source": []
  },
  {
   "cell_type": "code",
   "execution_count": null,
   "id": "8c0ae6de-7226-44a3-a70c-6cd1cd73858b",
   "metadata": {},
   "outputs": [],
   "source": []
  }
 ],
 "metadata": {
  "kernelspec": {
   "display_name": "Python 3 (ipykernel)",
   "language": "python",
   "name": "python3"
  },
  "language_info": {
   "codemirror_mode": {
    "name": "ipython",
    "version": 3
   },
   "file_extension": ".py",
   "mimetype": "text/x-python",
   "name": "python",
   "nbconvert_exporter": "python",
   "pygments_lexer": "ipython3",
   "version": "3.10.12"
  }
 },
 "nbformat": 4,
 "nbformat_minor": 5
}
